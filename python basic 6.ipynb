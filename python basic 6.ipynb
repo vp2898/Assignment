{
 "cells": [
  {
   "cell_type": "markdown",
   "id": "0f4aee18",
   "metadata": {},
   "source": [
    "***Python Basic Assignment-6***\n",
    "\n",
    "1. What are escape characters, and how do you use them?\n",
    "\n",
    "    Ans: In Python strings, the backslash \"\" is a special character, also called the \"escape\" character. It is used in representing certain whitespace characters: \"\\t\" is a tab, \"\\n\" is a newline, and \"\\r\" is a carriage return\n"
   ]
  },
  {
   "cell_type": "code",
   "execution_count": 1,
   "id": "59e110ae",
   "metadata": {},
   "outputs": [
    {
     "name": "stdout",
     "output_type": "stream",
     "text": [
      "my name is vikas\n"
     ]
    }
   ],
   "source": [
    "# Eg:\n",
    "print(\"my \\\n",
    "name \\\n",
    "is vikas\")\n"
   ]
  },
  {
   "cell_type": "markdown",
   "id": "04241fe3",
   "metadata": {},
   "source": [
    "2. What do the escape characters n and t stand for?\n",
    "\n",
    "    Ans: \"\\t\" is a tab, \"\\n\" is a newline"
   ]
  },
  {
   "cell_type": "markdown",
   "id": "25e3cf78",
   "metadata": {},
   "source": [
    "3. What is the way to include backslash characters in a string?"
   ]
  },
  {
   "cell_type": "code",
   "execution_count": 2,
   "id": "530af260",
   "metadata": {},
   "outputs": [
    {
     "name": "stdout",
     "output_type": "stream",
     "text": [
      "its a back slash \\ in a line\n"
     ]
    }
   ],
   "source": [
    "# Sollution:\n",
    "print('its a back slash \\\\ in a line')"
   ]
  },
  {
   "cell_type": "markdown",
   "id": "f3f77103",
   "metadata": {},
   "source": [
    "4. The string &quot;Howl&#39;s Moving Castle&quot; is a correct value. Why isn&#39;t the single quote character in the\n",
    "word Howl&#39;s not escaped a problem?\n",
    "\n",
    "    Ans: The single quote in Howl's is fine because you've used double quotes to mark the beginning and end of the string. like wise we can use double quotes in with single quotes"
   ]
  },
  {
   "cell_type": "code",
   "execution_count": 3,
   "id": "30a62141",
   "metadata": {},
   "outputs": [
    {
     "name": "stdout",
     "output_type": "stream",
     "text": [
      "Howl's Moving Castle\n"
     ]
    }
   ],
   "source": [
    "# Sollution:\n",
    "print( \"Howl's Moving Castle\")"
   ]
  },
  {
   "cell_type": "code",
   "execution_count": 4,
   "id": "06b987cd",
   "metadata": {},
   "outputs": [
    {
     "name": "stdout",
     "output_type": "stream",
     "text": [
      "Its a \"Nice\" Day\n"
     ]
    }
   ],
   "source": [
    "# like wise we can use double quote in side single quote\n",
    "print('Its a \"Nice\" Day')"
   ]
  },
  {
   "cell_type": "markdown",
   "id": "d5a60d2b",
   "metadata": {},
   "source": [
    "5. How do you write a string of newlines if you don&#39;t want to use the n character?"
   ]
  },
  {
   "cell_type": "code",
   "execution_count": 5,
   "id": "421d1b2f",
   "metadata": {},
   "outputs": [
    {
     "name": "stdout",
     "output_type": "stream",
     "text": [
      "printing something in new line\n",
      "newline\n"
     ]
    }
   ],
   "source": [
    "# Sollution:\n",
    "print(\"printing something in new line\",end = '\\n')\n",
    "print(\"newline\")"
   ]
  },
  {
   "cell_type": "markdown",
   "id": "3bde4c59",
   "metadata": {},
   "source": [
    "6. What are the values of the given expressions?\n",
    "\n",
    "    &#39;Hello, world!&#39;[1]\n",
    "\n",
    "    &#39;Hello, world!&#39;[0:5]\n",
    "\n",
    "    &#39;Hello, world!&#39;[:5]\n",
    "\n",
    "    &#39;Hello, world!&#39;[3:]"
   ]
  },
  {
   "cell_type": "code",
   "execution_count": 6,
   "id": "474a77a0",
   "metadata": {},
   "outputs": [
    {
     "data": {
      "text/plain": [
       "'e'"
      ]
     },
     "execution_count": 6,
     "metadata": {},
     "output_type": "execute_result"
    }
   ],
   "source": [
    "# Sollution:\n",
    "'Hello, world!'[1]"
   ]
  },
  {
   "cell_type": "code",
   "execution_count": 7,
   "id": "b3975e42",
   "metadata": {},
   "outputs": [
    {
     "data": {
      "text/plain": [
       "'Hello'"
      ]
     },
     "execution_count": 7,
     "metadata": {},
     "output_type": "execute_result"
    }
   ],
   "source": [
    "'Hello, world!'[0:5]"
   ]
  },
  {
   "cell_type": "code",
   "execution_count": 8,
   "id": "c6acc9e3",
   "metadata": {},
   "outputs": [
    {
     "data": {
      "text/plain": [
       "'Hello'"
      ]
     },
     "execution_count": 8,
     "metadata": {},
     "output_type": "execute_result"
    }
   ],
   "source": [
    "'Hello, world!'[:5]"
   ]
  },
  {
   "cell_type": "code",
   "execution_count": 9,
   "id": "ecd0041a",
   "metadata": {},
   "outputs": [
    {
     "data": {
      "text/plain": [
       "'lo, world!'"
      ]
     },
     "execution_count": 9,
     "metadata": {},
     "output_type": "execute_result"
    }
   ],
   "source": [
    "'Hello, world!'[3:]"
   ]
  },
  {
   "cell_type": "markdown",
   "id": "b965d8cb",
   "metadata": {},
   "source": [
    "7. What are the values of the following expressions?\n",
    "\n",
    "    &#39;Hello&#39;.upper()\n",
    "\n",
    "    &#39;Hello&#39;.upper().isupper()\n",
    "\n",
    "    &#39;Hello&#39;.upper().lower()"
   ]
  },
  {
   "cell_type": "code",
   "execution_count": 10,
   "id": "1b0de0e5",
   "metadata": {},
   "outputs": [
    {
     "data": {
      "text/plain": [
       "'HELLO'"
      ]
     },
     "execution_count": 10,
     "metadata": {},
     "output_type": "execute_result"
    }
   ],
   "source": [
    "# Sollution:\n",
    "'Hello'.upper()"
   ]
  },
  {
   "cell_type": "code",
   "execution_count": 11,
   "id": "b9ac634a",
   "metadata": {},
   "outputs": [
    {
     "data": {
      "text/plain": [
       "True"
      ]
     },
     "execution_count": 11,
     "metadata": {},
     "output_type": "execute_result"
    }
   ],
   "source": [
    "'Hello'.upper().isupper()"
   ]
  },
  {
   "cell_type": "code",
   "execution_count": 12,
   "id": "e6e2477f",
   "metadata": {},
   "outputs": [
    {
     "data": {
      "text/plain": [
       "'hello'"
      ]
     },
     "execution_count": 12,
     "metadata": {},
     "output_type": "execute_result"
    }
   ],
   "source": [
    "'Hello'.upper().lower()"
   ]
  },
  {
   "cell_type": "markdown",
   "id": "4e2d4bf8",
   "metadata": {},
   "source": [
    "8. What are the values of the following expressions?\n",
    "\n",
    "    &#39;Remember, remember, the fifth of July.&#39;.split()\n",
    "\n",
    "    &#39;-&#39;.join(&#39;There can only one.&#39;.split())"
   ]
  },
  {
   "cell_type": "code",
   "execution_count": 13,
   "id": "d636d730",
   "metadata": {},
   "outputs": [
    {
     "data": {
      "text/plain": [
       "['Remember,', 'remember,', 'the', 'fifth', 'of', 'July.']"
      ]
     },
     "execution_count": 13,
     "metadata": {},
     "output_type": "execute_result"
    }
   ],
   "source": [
    "# Sollution:\n",
    "'Remember, remember, the fifth of July.'.split()"
   ]
  },
  {
   "cell_type": "code",
   "execution_count": 14,
   "id": "173ed36e",
   "metadata": {},
   "outputs": [
    {
     "data": {
      "text/plain": [
       "'There-can-only-one.'"
      ]
     },
     "execution_count": 14,
     "metadata": {},
     "output_type": "execute_result"
    }
   ],
   "source": [
    "'-'.join('There can only one.'.split())"
   ]
  },
  {
   "cell_type": "markdown",
   "id": "7a38bc80",
   "metadata": {},
   "source": [
    "9. What are the methods for right-justifying, left-justifying, and centering a string?"
   ]
  },
  {
   "cell_type": "code",
   "execution_count": 15,
   "id": "000f0cfd",
   "metadata": {},
   "outputs": [
    {
     "data": {
      "text/plain": [
       "'Vikas-----'"
      ]
     },
     "execution_count": 15,
     "metadata": {},
     "output_type": "execute_result"
    }
   ],
   "source": [
    "# left justified\n",
    "str =\"Vikas\"\n",
    "str.ljust(10,\"-\")"
   ]
  },
  {
   "cell_type": "code",
   "execution_count": 16,
   "id": "b11ef9e3",
   "metadata": {},
   "outputs": [
    {
     "data": {
      "text/plain": [
       "'************************My name is Vikas'"
      ]
     },
     "execution_count": 16,
     "metadata": {},
     "output_type": "execute_result"
    }
   ],
   "source": [
    "# right justified\n",
    "str =\"My name is Vikas\"\n",
    "str.rjust(40,'*')"
   ]
  },
  {
   "cell_type": "code",
   "execution_count": 17,
   "id": "6e3ca148",
   "metadata": {},
   "outputs": [
    {
     "data": {
      "text/plain": [
       "'************My name is Vikas************'"
      ]
     },
     "execution_count": 17,
     "metadata": {},
     "output_type": "execute_result"
    }
   ],
   "source": [
    "# center justified\n",
    "str =\"My name is Vikas\"\n",
    "str.center(40,'*')"
   ]
  },
  {
   "cell_type": "markdown",
   "id": "cea0466c",
   "metadata": {},
   "source": [
    "10. What is the best way to remove whitespace characters from the start or end?"
   ]
  },
  {
   "cell_type": "code",
   "execution_count": 18,
   "id": "8ec20515",
   "metadata": {},
   "outputs": [
    {
     "data": {
      "text/plain": [
       "'vikas prajapati  '"
      ]
     },
     "execution_count": 18,
     "metadata": {},
     "output_type": "execute_result"
    }
   ],
   "source": [
    "# Sollution:\n",
    "str =\"  vikas prajapati  \"\n",
    "str.lstrip()"
   ]
  },
  {
   "cell_type": "code",
   "execution_count": 19,
   "id": "aabec1bb",
   "metadata": {},
   "outputs": [
    {
     "data": {
      "text/plain": [
       "'  vikas prajapti'"
      ]
     },
     "execution_count": 19,
     "metadata": {},
     "output_type": "execute_result"
    }
   ],
   "source": [
    "str =\"  vikas prajapti  \"\n",
    "str.rstrip()"
   ]
  },
  {
   "cell_type": "code",
   "execution_count": null,
   "id": "18d3e431",
   "metadata": {},
   "outputs": [],
   "source": []
  }
 ],
 "metadata": {
  "kernelspec": {
   "display_name": "Python 3 (ipykernel)",
   "language": "python",
   "name": "python3"
  },
  "language_info": {
   "codemirror_mode": {
    "name": "ipython",
    "version": 3
   },
   "file_extension": ".py",
   "mimetype": "text/x-python",
   "name": "python",
   "nbconvert_exporter": "python",
   "pygments_lexer": "ipython3",
   "version": "3.10.7"
  }
 },
 "nbformat": 4,
 "nbformat_minor": 5
}
