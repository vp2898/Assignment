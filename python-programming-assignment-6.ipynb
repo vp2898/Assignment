{
 "cells": [
  {
   "cell_type": "markdown",
   "id": "77c79889",
   "metadata": {},
   "source": [
    "***Python Programming Assignment-6***\n",
    "1. Write a Python Program to Display Fibonacci Sequence Using Recursion?"
   ]
  },
  {
   "cell_type": "code",
   "execution_count": null,
   "id": "ea80e922",
   "metadata": {},
   "outputs": [],
   "source": [
    "# Sollution:\n",
    "def rec_fibo(n):\n",
    "   if n <= 1:\n",
    "       return n\n",
    "   else:\n",
    "       return(rec_fibo(n-1) + rec_fibo(n-2))\n",
    "\n",
    "limit = int(input(\"Enter limit of numbers: \"))\n",
    "\n",
    "if limit <= 0:\n",
    "   print(\"Plese enter a positive integer\")\n",
    "else:\n",
    "   print(\"Fibonacci sequence:\")\n",
    "   for i in range(limit):\n",
    "       print(rec_fibo(i))\n"
   ]
  },
  {
   "cell_type": "markdown",
   "id": "62fcb2a8",
   "metadata": {},
   "source": [
    "2. Write a Python Program to Find Factorial of Number Using Recursion?"
   ]
  },
  {
   "cell_type": "code",
   "execution_count": null,
   "id": "8127c38d",
   "metadata": {},
   "outputs": [],
   "source": [
    "# Sollution:\n",
    "def rec_fact(n):\n",
    "   if n == 1:\n",
    "       return n\n",
    "   else:\n",
    "       return n*rec_fact(n-1)\n",
    "\n",
    "num = int(input(\"Enter the numbers u want factorial: \"))\n",
    "\n",
    "if num < 0:\n",
    "   print(\"Sorry, factorial does not exist for negative numbers\")\n",
    "elif num == 0:\n",
    "   print(\"The factorial of 0 is 1\")\n",
    "else:\n",
    "   print(\"The factorial of\", num, \"is\", rec_fact(num))\n"
   ]
  },
  {
   "cell_type": "markdown",
   "id": "b0c23594",
   "metadata": {},
   "source": [
    "3. Write a Python Program to calculate your Body Mass Index?"
   ]
  },
  {
   "cell_type": "code",
   "execution_count": null,
   "id": "7de8dfec",
   "metadata": {},
   "outputs": [],
   "source": [
    "# Sollution:\n",
    "def body_mass_index(h,w):\n",
    "    bmi = w/h**2\n",
    "    print(\"The BMI of the given height and weight is:\",bmi)\n",
    "    if bmi < 18.5:\n",
    "        print(\"Note:U are underweight!!!\")\n",
    "    elif bmi >= 18.5 and bmi < 24.9:\n",
    "        print(\"Congrats u r Healthy\")\n",
    "    elif bmi >= 24.9 and bmi < 30:\n",
    "        print(\"Note: u are Overweight\")\n",
    "    elif bmi >= 30:\n",
    "        print(\"Attention: u are suffering from Obesity\")\n",
    "        \n",
    "h=float(input(\"Enter ur height in Meters: \"))\n",
    "w=float(input(\"Enter ur weight in KG: \"))\n",
    "body_mass_index(h,w)        "
   ]
  },
  {
   "cell_type": "markdown",
   "id": "2b2f5656",
   "metadata": {},
   "source": [
    "4. Write a Python Program to calculate the natural logarithm of any number?"
   ]
  },
  {
   "cell_type": "code",
   "execution_count": null,
   "id": "b3946e48",
   "metadata": {},
   "outputs": [],
   "source": [
    "# Sollution:\n",
    "import math\n",
    "\n",
    "n = float(input(\"Enter the number u want to find natural log: \"))\n",
    "natural_log = math.log(n)\n",
    "print(\"The natural logarithm of\",n,\"is: \",end='')\n",
    "print(natural_log)"
   ]
  },
  {
   "cell_type": "markdown",
   "id": "9579740b",
   "metadata": {},
   "source": [
    "5. Write a Python Program for cube sum of first n natural numbers?"
   ]
  },
  {
   "cell_type": "code",
   "execution_count": null,
   "id": "87ca6ea2",
   "metadata": {},
   "outputs": [],
   "source": [
    "# Sollution:\n",
    "def cube(n):\n",
    "    sum = 0\n",
    "    for i in range(1, n+1):\n",
    "        sum = sum+pow(i,3)\n",
    "    return sum\n",
    "\n",
    "limit = int(input(\"Enter Limit of numbers: \"))\n",
    "total = cube(limit)\n",
    "print(\"Total cube of first\",limit,\"numbers is:\",cube(limit))\n",
    "        "
   ]
  },
  {
   "cell_type": "code",
   "execution_count": null,
   "id": "0bc84185",
   "metadata": {},
   "outputs": [],
   "source": []
  }
 ],
 "metadata": {
  "kernelspec": {
   "display_name": "Python 3 (ipykernel)",
   "language": "python",
   "name": "python3"
  },
  "language_info": {
   "codemirror_mode": {
    "name": "ipython",
    "version": 3
   },
   "file_extension": ".py",
   "mimetype": "text/x-python",
   "name": "python",
   "nbconvert_exporter": "python",
   "pygments_lexer": "ipython3",
   "version": "3.10.7"
  }
 },
 "nbformat": 4,
 "nbformat_minor": 5
}
