{
 "cells": [
  {
   "cell_type": "markdown",
   "id": "69554b10",
   "metadata": {},
   "source": [
    "***Programming Assignment-1***\n",
    "1. Write a Python program to print &quot;Hello Python&quot;?"
   ]
  },
  {
   "cell_type": "code",
   "execution_count": null,
   "id": "745d9fae",
   "metadata": {},
   "outputs": [],
   "source": [
    "# Ans:\n",
    "print(\"Hello Python\")"
   ]
  },
  {
   "cell_type": "markdown",
   "id": "04644bd1",
   "metadata": {},
   "source": [
    "2. Write a Python program to do arithmetical operations addition and division.?"
   ]
  },
  {
   "cell_type": "code",
   "execution_count": 1,
   "id": "1695218b",
   "metadata": {},
   "outputs": [
    {
     "name": "stdout",
     "output_type": "stream",
     "text": [
      "Enter the first number: 2\n",
      "Enter the second number: 3\n",
      "Sum is: 5\n",
      "division is: 0.6666666666666666\n"
     ]
    }
   ],
   "source": [
    "# Ans:\n",
    "first_num=int(input(\"Enter the first number: \"))\n",
    "sec_num=int(input(\"Enter the second number: \"))\n",
    "total = first_num+sec_num\n",
    "div = first_num/sec_num\n",
    "print(\"Sum is:\",total)\n",
    "print(\"division is:\",div)"
   ]
  },
  {
   "cell_type": "markdown",
   "id": "ca13c1d8",
   "metadata": {},
   "source": [
    "3. Write a Python program to find the area of a triangle?"
   ]
  },
  {
   "cell_type": "code",
   "execution_count": null,
   "id": "66c4f5f2",
   "metadata": {},
   "outputs": [],
   "source": [
    "# Ans:\n",
    "height = float(input(\"Enter the height oof traingle:\" ))\n",
    "base = float(input(\"Enter the base of triangle: \"))\n",
    "area = height*base/2\n",
    "print(\"This the area of traingle:\",area)"
   ]
  },
  {
   "cell_type": "markdown",
   "id": "93fe2f0c",
   "metadata": {},
   "source": [
    "4. Write a Python program to swap two variables?"
   ]
  },
  {
   "cell_type": "code",
   "execution_count": null,
   "id": "14c70550",
   "metadata": {},
   "outputs": [],
   "source": [
    "# Ans:\n",
    "a=10\n",
    "b=5\n",
    "a,b=b,a\n",
    "print(a)\n",
    "print(b)"
   ]
  },
  {
   "cell_type": "markdown",
   "id": "8b6a0745",
   "metadata": {},
   "source": [
    "5. Write a Python program to generate a random number?"
   ]
  },
  {
   "cell_type": "code",
   "execution_count": null,
   "id": "e484a5e5",
   "metadata": {},
   "outputs": [],
   "source": [
    "# Ans:\n",
    "import random\n",
    "print(random.randint(0,100))"
   ]
  },
  {
   "cell_type": "code",
   "execution_count": null,
   "id": "6ccc6d80",
   "metadata": {},
   "outputs": [],
   "source": []
  }
 ],
 "metadata": {
  "kernelspec": {
   "display_name": "Python 3 (ipykernel)",
   "language": "python",
   "name": "python3"
  },
  "language_info": {
   "codemirror_mode": {
    "name": "ipython",
    "version": 3
   },
   "file_extension": ".py",
   "mimetype": "text/x-python",
   "name": "python",
   "nbconvert_exporter": "python",
   "pygments_lexer": "ipython3",
   "version": "3.10.7"
  }
 },
 "nbformat": 4,
 "nbformat_minor": 5
}
