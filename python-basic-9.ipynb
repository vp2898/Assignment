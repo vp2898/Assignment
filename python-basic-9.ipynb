{
 "cells": [
  {
   "cell_type": "markdown",
   "id": "0c92ba56",
   "metadata": {},
   "source": [
    "***Python Basic Assignment-9***\n",
    "1. To what does a relative path refer?\n",
    "\n",
    "    Ans:A relative path in Python is a path that describes the location of a directory relative to the entry point where you run the Python script."
   ]
  },
  {
   "cell_type": "markdown",
   "id": "cf0cd05e",
   "metadata": {},
   "source": [
    "2. What does an absolute path start with your operating system?\n",
    "\n",
    "    Ans:An absolute path is a path that contains the entire path to the file or directory that you need to access. This path will begin at the home directory of your computer and will end with the file or directory that you wish to access. Absolute paths ensure that Python can find the exact file on your computer."
   ]
  },
  {
   "cell_type": "code",
   "execution_count": null,
   "id": "a15305dc",
   "metadata": {},
   "outputs": [],
   "source": [
    "# Eg: /home/your-username/earth-analytics/data/field-sites/california/colorado/streams.csv"
   ]
  },
  {
   "cell_type": "markdown",
   "id": "4dea3796",
   "metadata": {},
   "source": [
    "3. What do the functions os.getcwd() and os.chdir() do?\n",
    "\n",
    "    Ans:- Python method getcwd() returns current working directory of a process\n",
    "    \n",
    "      -chdir() method in Python used to change the current working directory to specified path. It takes only a single argument as new directory path."
   ]
  },
  {
   "cell_type": "code",
   "execution_count": null,
   "id": "4c638784",
   "metadata": {},
   "outputs": [],
   "source": [
    "# Eg:\n",
    "cwd = os.getcwd() #os.getcwd\n"
   ]
  },
  {
   "cell_type": "code",
   "execution_count": null,
   "id": "40e042b4",
   "metadata": {},
   "outputs": [],
   "source": [
    "# Eg:\n",
    "# directory of file using os.chdir() method\n",
    "import os\n",
    "\n",
    "# change the current directory\n",
    "# to specified directory\n",
    "os.chdir(r\"C:\\Users\\Gfg\\Desktop\\geeks\") #os.chdir()\n",
    "\n",
    "print(\"Directory changed\")\n"
   ]
  },
  {
   "cell_type": "markdown",
   "id": "7de33ec8",
   "metadata": {},
   "source": [
    "4. What are the . and .. folders?\n",
    "\n",
    "    Ans: A single dot means that the module or package referenced is in the same directory as the current location.\n",
    "\n",
    "        Two dots mean that it is in the parent directory of the current location, in other words the directory above.\n"
   ]
  },
  {
   "cell_type": "markdown",
   "id": "9eaa87ca",
   "metadata": {},
   "source": [
    "5. In C:\\bacon\\eggs\\spam.txt, which part is the dir name, and which part is the base name?\n",
    "\n",
    "    Ans: Directory name is C, Base name is spam.txt"
   ]
  },
  {
   "cell_type": "markdown",
   "id": "9e9937b6",
   "metadata": {},
   "source": [
    "6. What are the three “mode” arguments that can be passed to the open() function?\n",
    "\n",
    "    Ans: 'r': Opens the files in read only mode.\n",
    "\n",
    "'w': Opens files in write only mode.\n",
    "\n",
    "'r+': Opens a file for reading and writing, placing the pointer at the beginning of the file."
   ]
  },
  {
   "cell_type": "markdown",
   "id": "4cb95ee9",
   "metadata": {},
   "source": [
    "7. What happens if an existing file is opened in write mode?\n",
    "\n",
    "Ans: If a file with the same name already exists, its contents are discarded and the file is treated as a new empty file."
   ]
  },
  {
   "cell_type": "markdown",
   "id": "039ec355",
   "metadata": {},
   "source": [
    "8. How do you tell the difference between read() and readlines()?\n",
    "\n",
    "Ans: The read() will read the whole file at once and \n",
    "    then print out the first characters that take up as many bytes as you specify in the parenthesis versus \n",
    "    the readline() that will read and print out only the first characters that take up as many bytes as you specify in the parenthesis."
   ]
  },
  {
   "cell_type": "markdown",
   "id": "e68b9246",
   "metadata": {},
   "source": [
    "9. What data structure does a shelf value resemble?\n",
    "\n",
    "Ans:A shelf value resembles a dictionary value; it has keys and values, along with keys() and values() methods that work similarly to the dictionary methods of the same names."
   ]
  }
 ],
 "metadata": {
  "kernelspec": {
   "display_name": "Python 3 (ipykernel)",
   "language": "python",
   "name": "python3"
  },
  "language_info": {
   "codemirror_mode": {
    "name": "ipython",
    "version": 3
   },
   "file_extension": ".py",
   "mimetype": "text/x-python",
   "name": "python",
   "nbconvert_exporter": "python",
   "pygments_lexer": "ipython3",
   "version": "3.10.7"
  }
 },
 "nbformat": 4,
 "nbformat_minor": 5
}
