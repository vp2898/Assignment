{
 "cells": [
  {
   "cell_type": "markdown",
   "id": "048a54ed",
   "metadata": {},
   "source": [
    "***Python Programming Assignment-2***\n",
    "1. Write a Python program to convert kilometers to miles?"
   ]
  },
  {
   "cell_type": "code",
   "execution_count": 1,
   "id": "9d1227d0",
   "metadata": {},
   "outputs": [
    {
     "name": "stdout",
     "output_type": "stream",
     "text": [
      "Enter the kilometers: 2\n",
      "Given kilometers in miles: 1.242742384474668\n"
     ]
    }
   ],
   "source": [
    "km = float(input(\"Enter the kilometers: \"))\n",
    "mls = km/1.609344\n",
    "print(\"Given kilometers in miles:\",mls)"
   ]
  },
  {
   "cell_type": "markdown",
   "id": "77f04464",
   "metadata": {},
   "source": [
    "2. Write a Python program to convert Celsius to Fahrenheit?"
   ]
  },
  {
   "cell_type": "code",
   "execution_count": 5,
   "id": "413d4a83",
   "metadata": {},
   "outputs": [
    {
     "name": "stdout",
     "output_type": "stream",
     "text": [
      "Enter the temperature in celcius: 12\n",
      "Given Temperature in Fahrenheit: 53\n"
     ]
    }
   ],
   "source": [
    "# Sollution:\n",
    "cls = int(input(\"Enter the temperature in celcius: \"))\n",
    "fernht = int(cls*1.8+32)\n",
    "print(\"Given Temperature in Fahrenheit:\",fernht)"
   ]
  },
  {
   "cell_type": "markdown",
   "id": "7502ac96",
   "metadata": {},
   "source": [
    "3. Write a Python program to display calendar?"
   ]
  },
  {
   "cell_type": "code",
   "execution_count": 1,
   "id": "e626caa6",
   "metadata": {},
   "outputs": [
    {
     "ename": "ModuleNotFoundError",
     "evalue": "No module named 'calender'",
     "output_type": "error",
     "traceback": [
      "\u001b[1;31m---------------------------------------------------------------------------\u001b[0m",
      "\u001b[1;31mModuleNotFoundError\u001b[0m                       Traceback (most recent call last)",
      "Cell \u001b[1;32mIn [1], line 2\u001b[0m\n\u001b[0;32m      1\u001b[0m \u001b[38;5;66;03m# Sollution:\u001b[39;00m\n\u001b[1;32m----> 2\u001b[0m \u001b[38;5;28;01mimport\u001b[39;00m \u001b[38;5;21;01mcalender\u001b[39;00m\n\u001b[0;32m      3\u001b[0m yy\u001b[38;5;241m=\u001b[39m\u001b[38;5;241m2022\u001b[39m\n\u001b[0;32m      4\u001b[0m mm\u001b[38;5;241m=\u001b[39m\u001b[38;5;241m12\u001b[39m\n",
      "\u001b[1;31mModuleNotFoundError\u001b[0m: No module named 'calender'"
     ]
    }
   ],
   "source": [
    "# Sollution:\n",
    "import calender\n",
    "yy=2022\n",
    "mm=12\n",
    "print(calender.month(yy,mm))\n"
   ]
  },
  {
   "cell_type": "markdown",
   "id": "c3cb5bb3",
   "metadata": {},
   "source": [
    "4. Write a Python program to solve quadratic equation?"
   ]
  },
  {
   "cell_type": "code",
   "execution_count": 3,
   "id": "62596cd9",
   "metadata": {},
   "outputs": [
    {
     "name": "stdout",
     "output_type": "stream",
     "text": [
      "Enter the num for a: 4\n",
      "Enter the num for b: 2\n",
      "Enter the num for c: 6\n",
      "The solution are (-0.25-1.1989578808281798j) and (-0.25+1.1989578808281798j)\n"
     ]
    }
   ],
   "source": [
    "# Solve the quadratic equation ax**2 + bx + c = 0\n",
    "\n",
    "# Sollution:\n",
    "import cmath\n",
    "a = int(input(\"Enter the num for a: \"))\n",
    "b = int(input(\"Enter the num for b: \"))\n",
    "c = int(input(\"Enter the num for c: \"))\n",
    "# calculate the discriminant\n",
    "d = (b**2) - (4*a*c)\n",
    "# find two solutions\n",
    "sol1 = (-b-cmath.sqrt(d))/(2*a)\n",
    "sol2 = (-b+cmath.sqrt(d))/(2*a)\n",
    "print('The solution are {0} and {1}'.format(sol1,sol2))"
   ]
  },
  {
   "cell_type": "markdown",
   "id": "4dde6705",
   "metadata": {},
   "source": [
    "5. Write a Python program to swap two variables without temp variable?"
   ]
  },
  {
   "cell_type": "code",
   "execution_count": null,
   "id": "e8d5a726",
   "metadata": {},
   "outputs": [],
   "source": [
    "a=10\n",
    "b=5\n",
    "a,b"
   ]
  }
 ],
 "metadata": {
  "kernelspec": {
   "display_name": "Python 3 (ipykernel)",
   "language": "python",
   "name": "python3"
  },
  "language_info": {
   "codemirror_mode": {
    "name": "ipython",
    "version": 3
   },
   "file_extension": ".py",
   "mimetype": "text/x-python",
   "name": "python",
   "nbconvert_exporter": "python",
   "pygments_lexer": "ipython3",
   "version": "3.10.7"
  }
 },
 "nbformat": 4,
 "nbformat_minor": 5
}
