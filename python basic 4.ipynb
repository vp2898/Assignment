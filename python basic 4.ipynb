{
 "cells": [
  {
   "cell_type": "markdown",
   "id": "696fe97b",
   "metadata": {},
   "source": [
    "***Assignment-4***\n",
    "\n",
    "Q1. What exactly is []?\n",
    "\n",
    "Ans: The [] is generally use for containig list value and this is empty list value, which is a list value that contains no items."
   ]
  },
  {
   "cell_type": "code",
   "execution_count": 1,
   "id": "64b2c40b",
   "metadata": {},
   "outputs": [
    {
     "data": {
      "text/plain": [
       "list"
      ]
     },
     "execution_count": 1,
     "metadata": {},
     "output_type": "execute_result"
    }
   ],
   "source": [
    "# eg:\n",
    "l1 = []\n",
    "type(l1)"
   ]
  },
  {
   "cell_type": "markdown",
   "id": "565f017b",
   "metadata": {},
   "source": [
    "Q2. In a list of values stored in a variable called spam, how would you assign the value &#39;hello&#39; as the\n",
    "third value? (Assume [2, 4, 6, 8, 10] are in spam.)"
   ]
  },
  {
   "cell_type": "code",
   "execution_count": 2,
   "id": "63d918ba",
   "metadata": {},
   "outputs": [
    {
     "data": {
      "text/plain": [
       "[2, 4, 'hello', 8, 10]"
      ]
     },
     "execution_count": 2,
     "metadata": {},
     "output_type": "execute_result"
    }
   ],
   "source": [
    "# sollution by changing indexing value \n",
    "spam = [2, 4, 6, 8, 10]\n",
    "spam[2] = 'hello'\n",
    "spam\n"
   ]
  },
  {
   "cell_type": "markdown",
   "id": "f5093039",
   "metadata": {},
   "source": [
    "**Let&#39;s pretend the spam includes the list [&#39;a&#39;, &#39;b&#39;, &#39;c&#39;, &#39;d&#39;] for the next three queries.**\n",
    "\n",
    "Q3. What is the value of spam[int(int(&#39;3&#39; * 2) / 11)]?"
   ]
  },
  {
   "cell_type": "code",
   "execution_count": 3,
   "id": "a934104a",
   "metadata": {},
   "outputs": [
    {
     "data": {
      "text/plain": [
       "'d'"
      ]
     },
     "execution_count": 3,
     "metadata": {},
     "output_type": "execute_result"
    }
   ],
   "source": [
    "# Sollurion\n",
    "spam = ['a', 'b', 'c', 'd']\n",
    "spam[int(int('3'*2)/11)]\n"
   ]
  },
  {
   "cell_type": "markdown",
   "id": "205ef8ff",
   "metadata": {},
   "source": [
    "4. What is the value of spam[-1]?"
   ]
  },
  {
   "cell_type": "code",
   "execution_count": 4,
   "id": "08197880",
   "metadata": {},
   "outputs": [
    {
     "data": {
      "text/plain": [
       "'d'"
      ]
     },
     "execution_count": 4,
     "metadata": {},
     "output_type": "execute_result"
    }
   ],
   "source": [
    "# Sollution\n",
    "spam = ['a', 'b', 'c', 'd']\n",
    "spam[-1]"
   ]
  },
  {
   "cell_type": "markdown",
   "id": "348559c9",
   "metadata": {},
   "source": [
    "Q5. What is the value of spam[:2]?"
   ]
  },
  {
   "cell_type": "code",
   "execution_count": 5,
   "id": "12854771",
   "metadata": {},
   "outputs": [
    {
     "data": {
      "text/plain": [
       "['a', 'b']"
      ]
     },
     "execution_count": 5,
     "metadata": {},
     "output_type": "execute_result"
    }
   ],
   "source": [
    "# Sollution\n",
    "spam = ['a', 'b', 'c', 'd']\n",
    "spam[:2]"
   ]
  },
  {
   "cell_type": "markdown",
   "id": "285760b9",
   "metadata": {},
   "source": [
    "**Let&#39;s pretend bacon has the list [3.14, &#39;cat,&#39; 11, &#39;cat,&#39; True] for the next three questions.**\n",
    "\n",
    "Q6. What is the value of bacon.index(&#39;cat&#39;)?"
   ]
  },
  {
   "cell_type": "code",
   "execution_count": 6,
   "id": "1b23b7a5",
   "metadata": {},
   "outputs": [
    {
     "data": {
      "text/plain": [
       "1"
      ]
     },
     "execution_count": 6,
     "metadata": {},
     "output_type": "execute_result"
    }
   ],
   "source": [
    "# Sollution\n",
    "bacon = [3.14, 'cat', 11, 'cat', True] \n",
    "bacon.index('cat')"
   ]
  },
  {
   "cell_type": "markdown",
   "id": "5fd56b6d",
   "metadata": {},
   "source": [
    "Q7. How does bacon.append(99) change the look of the list value in bacon? "
   ]
  },
  {
   "cell_type": "code",
   "execution_count": 7,
   "id": "c24ee1ef",
   "metadata": {},
   "outputs": [
    {
     "data": {
      "text/plain": [
       "[3.14, 'cat', 11, 'cat', True, 99]"
      ]
     },
     "execution_count": 7,
     "metadata": {},
     "output_type": "execute_result"
    }
   ],
   "source": [
    "# Sollution\n",
    "bacon = [3.14, 'cat', 11, 'cat', True]\n",
    "bacon.append(99)\n",
    "bacon"
   ]
  },
  {
   "cell_type": "markdown",
   "id": "6012c2dd",
   "metadata": {},
   "source": [
    "Q8. How does bacon.remove(&#39;cat&#39;) change the look of the list in bacon?"
   ]
  },
  {
   "cell_type": "code",
   "execution_count": 8,
   "id": "e6031877",
   "metadata": {},
   "outputs": [
    {
     "data": {
      "text/plain": [
       "[3.14, 11, 'cat', True]"
      ]
     },
     "execution_count": 8,
     "metadata": {},
     "output_type": "execute_result"
    }
   ],
   "source": [
    "# Sollution\n",
    "bacon = [3.14, 'cat', 11, 'cat', True]\n",
    "bacon.remove('cat')\n",
    "bacon"
   ]
  },
  {
   "cell_type": "markdown",
   "id": "89520088",
   "metadata": {},
   "source": [
    "Q9. What are the list concatenation and list replication operators?\n",
    "\n",
    "Ans: The list concatenation operator is '+' and The list replication operator is '*'."
   ]
  },
  {
   "cell_type": "code",
   "execution_count": 9,
   "id": "cd88a550",
   "metadata": {},
   "outputs": [
    {
     "data": {
      "text/plain": [
       "['Vikas', 'Prajapati']"
      ]
     },
     "execution_count": 9,
     "metadata": {},
     "output_type": "execute_result"
    }
   ],
   "source": [
    "# List concatination:\n",
    "l1 = ['Vikas']\n",
    "l2 = ['Prajapati']\n",
    "l1+l2 \n"
   ]
  },
  {
   "cell_type": "code",
   "execution_count": 10,
   "id": "25d872d8",
   "metadata": {},
   "outputs": [
    {
     "data": {
      "text/plain": [
       "[3, 5, 3, 5, 3, 5]"
      ]
     },
     "execution_count": 10,
     "metadata": {},
     "output_type": "execute_result"
    }
   ],
   "source": [
    "# List replication:\n",
    "l1 = [3,5]\n",
    "l1*3\n"
   ]
  },
  {
   "cell_type": "markdown",
   "id": "f964fdcd",
   "metadata": {},
   "source": [
    "Q10. What is difference between the list methods append() and insert()?\n",
    "\n",
    "Ans: append() method adds an item to the end of the list & insert() method insert an item to the specific index"
   ]
  },
  {
   "cell_type": "code",
   "execution_count": 11,
   "id": "e00acf6e",
   "metadata": {},
   "outputs": [
    {
     "data": {
      "text/plain": [
       "[2, 3, 5, 8, 9, 10]"
      ]
     },
     "execution_count": 11,
     "metadata": {},
     "output_type": "execute_result"
    }
   ],
   "source": [
    "# Eg of append() method:\n",
    "l1=[2,3,5,8,9]\n",
    "l1.append(10)\n",
    "l1"
   ]
  },
  {
   "cell_type": "code",
   "execution_count": 12,
   "id": "ab64fabe",
   "metadata": {},
   "outputs": [
    {
     "data": {
      "text/plain": [
       "[2, 23, 'vikas', 5, 88]"
      ]
     },
     "execution_count": 12,
     "metadata": {},
     "output_type": "execute_result"
    }
   ],
   "source": [
    "# Eg of insert() method:\n",
    "l1=[2,23,5,88]\n",
    "l1.insert(2,'vikas')\n",
    "l1"
   ]
  },
  {
   "cell_type": "markdown",
   "id": "f0348c66",
   "metadata": {},
   "source": [
    "Q11. What are the two methods for removing items from a list?\n",
    "\n",
    "Ans: The methods are remove(), pop() and clear(). It helps to remove the very first given element matching from the list. The pop() method removes an element from the list based on the index given. The clear() method will remove all the elements present in the list."
   ]
  },
  {
   "cell_type": "code",
   "execution_count": 13,
   "id": "d7fe47c2",
   "metadata": {},
   "outputs": [
    {
     "data": {
      "text/plain": [
       "[23, 5, 88]"
      ]
     },
     "execution_count": 13,
     "metadata": {},
     "output_type": "execute_result"
    }
   ],
   "source": [
    "# Eg of remove() method:\n",
    "l1=[2,23,5,88]\n",
    "l1.remove(2)\n",
    "l1"
   ]
  },
  {
   "cell_type": "code",
   "execution_count": 14,
   "id": "b0063406",
   "metadata": {},
   "outputs": [
    {
     "data": {
      "text/plain": [
       "[]"
      ]
     },
     "execution_count": 14,
     "metadata": {},
     "output_type": "execute_result"
    }
   ],
   "source": [
    "# Eg of clear() method:\n",
    "l1=[2,88,66,4]\n",
    "l1.clear()\n",
    "l1\n"
   ]
  },
  {
   "cell_type": "code",
   "execution_count": 15,
   "id": "577695ea",
   "metadata": {},
   "outputs": [
    {
     "data": {
      "text/plain": [
       "[55, 88]"
      ]
     },
     "execution_count": 15,
     "metadata": {},
     "output_type": "execute_result"
    }
   ],
   "source": [
    "# Eg of pop() method:\n",
    "l1=[55,88,36]\n",
    "l1.pop()\n",
    "l1"
   ]
  },
  {
   "cell_type": "markdown",
   "id": "f40d3d5b",
   "metadata": {},
   "source": [
    "Q12. Describe how list values and string values are identical.\n",
    "\n",
    "Ans:\n",
    "-Both lists and strings can be passed to len()\n",
    "\n",
    "-Have indexes and slices\n",
    "\n",
    "-Can be used in for loops\n",
    "\n",
    "-Can be concatenated or replicated\n",
    "\n",
    "-Can be used with the in and not in operators"
   ]
  },
  {
   "cell_type": "markdown",
   "id": "06481c23",
   "metadata": {},
   "source": [
    "Q13. What&#39;s the difference between tuples and lists?\n",
    "\n",
    "Ans:The primary difference between tuples and lists is that tuples are immutable as opposed to lists which are mutable"
   ]
  },
  {
   "cell_type": "markdown",
   "id": "65a5b29a",
   "metadata": {},
   "source": [
    "Q14. How do you type a tuple value that only contains the integer 42?"
   ]
  },
  {
   "cell_type": "code",
   "execution_count": 16,
   "id": "77d9cc62",
   "metadata": {},
   "outputs": [
    {
     "data": {
      "text/plain": [
       "42"
      ]
     },
     "execution_count": 16,
     "metadata": {},
     "output_type": "execute_result"
    }
   ],
   "source": [
    "# Eg:\n",
    "t1=(42)\n",
    "t1"
   ]
  },
  {
   "cell_type": "markdown",
   "id": "11f461a2",
   "metadata": {},
   "source": [
    "Q15. How do you get a list value&#39;s tuple form? How do you get a tuple value&#39;s list form?"
   ]
  },
  {
   "cell_type": "code",
   "execution_count": 17,
   "id": "e001d630",
   "metadata": {},
   "outputs": [
    {
     "data": {
      "text/plain": [
       "(12, 65)"
      ]
     },
     "execution_count": 17,
     "metadata": {},
     "output_type": "execute_result"
    }
   ],
   "source": [
    "# Eg of list's values in tuple for:\n",
    "l1=[12,65]\n",
    "t=tuple(l1)\n",
    "t"
   ]
  },
  {
   "cell_type": "code",
   "execution_count": 18,
   "id": "a5a08bbf",
   "metadata": {},
   "outputs": [
    {
     "data": {
      "text/plain": [
       "[58, 45]"
      ]
     },
     "execution_count": 18,
     "metadata": {},
     "output_type": "execute_result"
    }
   ],
   "source": [
    "# Eg of tuple's values in list form:\n",
    "t1=(58,45)\n",
    "l=list(t1)\n",
    "l"
   ]
  },
  {
   "cell_type": "markdown",
   "id": "55cd2454",
   "metadata": {},
   "source": [
    "Q16. Variables that &quot;contain&quot; list values are not necessarily lists themselves. Instead, what do they\n",
    "contain?\n",
    "\n",
    "Ans: They contain references to list values"
   ]
  },
  {
   "cell_type": "markdown",
   "id": "5708abbf",
   "metadata": {},
   "source": [
    "Q17. How do you distinguish between copy.copy() and copy.deepcopy()?\n",
    "\n",
    "Ans: copy.copy() create reference to original object. If you change copied object - you change the original object. \n",
    "copy.deepcopy() creates new object and does real copying of original object to new one."
   ]
  },
  {
   "cell_type": "code",
   "execution_count": null,
   "id": "e7d1cd56",
   "metadata": {},
   "outputs": [],
   "source": []
  }
 ],
 "metadata": {
  "kernelspec": {
   "display_name": "Python 3 (ipykernel)",
   "language": "python",
   "name": "python3"
  },
  "language_info": {
   "codemirror_mode": {
    "name": "ipython",
    "version": 3
   },
   "file_extension": ".py",
   "mimetype": "text/x-python",
   "name": "python",
   "nbconvert_exporter": "python",
   "pygments_lexer": "ipython3",
   "version": "3.10.7"
  }
 },
 "nbformat": 4,
 "nbformat_minor": 5
}
