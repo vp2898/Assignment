{
 "cells": [
  {
   "cell_type": "markdown",
   "id": "5cf25665",
   "metadata": {},
   "source": [
    "***Python Basic Assignment-8***\n",
    "1. Is the Python Standard Library included with PyInputPlus?\n",
    "\n",
    "    Ans: PyInputPlus is not a part of Python Standard Library if we want to use it we must install it using 'pip install pyinputplus'"
   ]
  },
  {
   "cell_type": "markdown",
   "id": "008cf342",
   "metadata": {},
   "source": [
    "2. Why is PyInputPlus commonly imported with import pyinputplus as pypi?\n",
    "\n",
    "    Ans: So that you can enter a shorter name when calling the module's functions"
   ]
  },
  {
   "cell_type": "code",
   "execution_count": null,
   "id": "fa3ddc39",
   "metadata": {},
   "outputs": [],
   "source": [
    "# Eg:\n",
    "import pyinputplus as pyip\n",
    "\n",
    "inp = pyip.inputStr(prompt=\"Enter a string... \",\n",
    "                    blank=True, blockRegexes = 'aeiou')\n",
    "\n",
    "print(inp)\n"
   ]
  },
  {
   "cell_type": "markdown",
   "id": "19537102",
   "metadata": {},
   "source": [
    "3. How do you distinguish between inputInt() and inputFloat()?"
   ]
  },
  {
   "cell_type": "markdown",
   "id": "40043dd7",
   "metadata": {},
   "source": [
    "    Ans:inputInt() : Accepts an integer value. This also takes additional parameters \n",
    "    'min', 'max', 'greaterThan' and 'lessThan' for bounds Returns an int.\n",
    "        \n",
    "        inputfloat() : Accepts a floating-point numeric value. Also takes additional \n",
    "        ‘min’, ‘max’, ‘greaterThan’ and ‘lessThan’  parameters. Returns a float.    "
   ]
  },
  {
   "cell_type": "code",
   "execution_count": null,
   "id": "fa039904",
   "metadata": {},
   "outputs": [],
   "source": [
    "# Eg:\n",
    "import pyinputplus as pyip\n",
    "pyip.inputInt()\n",
    "pyip.inputFloat()"
   ]
  },
  {
   "cell_type": "markdown",
   "id": "24314054",
   "metadata": {},
   "source": [
    "4. Using PyInputPlus, how do you ensure that the user enters a whole number between 0 and 99?\n",
    "\n",
    "    Ans:  By using pyip.inputint(min=0, max=99)"
   ]
  },
  {
   "cell_type": "code",
   "execution_count": null,
   "id": "82dfb411",
   "metadata": {},
   "outputs": [],
   "source": [
    "import pyinputplus as pyip\n",
    "pyip.inputInt(min=0, max=99)"
   ]
  },
  {
   "cell_type": "markdown",
   "id": "3ab0be76",
   "metadata": {},
   "source": [
    "5. What is transferred to the keyword arguments allowRegexes and blockRegexes?\n",
    "\n",
    "    Ans:keyword arguments take a list of regular expression strings to determine what the PyInputPlus function will accept or reject as valid input."
   ]
  },
  {
   "cell_type": "code",
   "execution_count": null,
   "id": "022862df",
   "metadata": {},
   "outputs": [],
   "source": [
    "import pyinputplus as pyip\n",
    "response = pyip.inputNum(allowRegexes=[r'(I|V|X|L|C|D|M)+', r'zero']) # it allowes roman letters as numbers too"
   ]
  },
  {
   "cell_type": "code",
   "execution_count": null,
   "id": "8b833052",
   "metadata": {},
   "outputs": [],
   "source": [
    "import pyinputplus as pyip\n",
    "response = pyip.inputNum(blockRegexes=[r'[02468]$'])# blocks the even numbers"
   ]
  },
  {
   "cell_type": "markdown",
   "id": "8a913141",
   "metadata": {},
   "source": [
    "6. If a blank input is entered three times, what does inputStr(limit=3) do?\n",
    "\n",
    "    Ans: It will throw RetryLimitException exception"
   ]
  },
  {
   "cell_type": "code",
   "execution_count": null,
   "id": "b5b84542",
   "metadata": {},
   "outputs": [],
   "source": [
    "import pyinputplus as pyip\n",
    "response = pyip.inputStr(limit=3)"
   ]
  },
  {
   "cell_type": "markdown",
   "id": "73f6de08",
   "metadata": {},
   "source": [
    "7. If blank input is entered three times, what does inputStr(limit=3, default=&#39;hello&#39;) do?\n",
    "\n",
    "    Ans: When you use limit keyword arguments and also pass a default keyword argument, the function returns the default value instead of raising an exception"
   ]
  },
  {
   "cell_type": "code",
   "execution_count": null,
   "id": "c72ab490",
   "metadata": {},
   "outputs": [],
   "source": [
    "import \n",
    "response = pyip.inputStr(limit=3,default='hello')\n",
    "response\n"
   ]
  }
 ],
 "metadata": {
  "kernelspec": {
   "display_name": "Python 3 (ipykernel)",
   "language": "python",
   "name": "python3"
  },
  "language_info": {
   "codemirror_mode": {
    "name": "ipython",
    "version": 3
   },
   "file_extension": ".py",
   "mimetype": "text/x-python",
   "name": "python",
   "nbconvert_exporter": "python",
   "pygments_lexer": "ipython3",
   "version": "3.10.7"
  }
 },
 "nbformat": 4,
 "nbformat_minor": 5
}
