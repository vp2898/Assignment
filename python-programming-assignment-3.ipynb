{
 "cells": [
  {
   "cell_type": "markdown",
   "id": "e455d16f",
   "metadata": {},
   "source": [
    "***Python programming Assignment-3***\n",
    "1. Write a Python Program to Check if a Number is Positive, Negative or Zero?"
   ]
  },
  {
   "cell_type": "code",
   "execution_count": 3,
   "id": "fe5504ac",
   "metadata": {},
   "outputs": [
    {
     "name": "stdout",
     "output_type": "stream",
     "text": [
      "Enter the num u want: -3\n",
      "The given number is negative\n"
     ]
    }
   ],
   "source": [
    "a = int(input(\"Enter the num u want: \"))\n",
    "if a>0:\n",
    "    print(\"The given number is positive\")\n",
    "elif a<0:\n",
    "    print(\"The given number is negative\")\n",
    "else:\n",
    "    print(\"The given number is 0\")"
   ]
  },
  {
   "cell_type": "markdown",
   "id": "39cae293",
   "metadata": {},
   "source": [
    "2. Write a Python Program to Check if a Number is Odd or Even?"
   ]
  },
  {
   "cell_type": "code",
   "execution_count": 9,
   "id": "7a7abba2",
   "metadata": {},
   "outputs": [
    {
     "name": "stdout",
     "output_type": "stream",
     "text": [
      "Enter the number u want: 2\n",
      "the given number is even number\n"
     ]
    }
   ],
   "source": [
    "a = int(input(\"Enter the number u want: \"))\n",
    "if a%2 == 0:\n",
    "    print(\"the given number is even number\")\n",
    "else:\n",
    "    print(\"The given number is odd number\")"
   ]
  },
  {
   "cell_type": "markdown",
   "id": "011e9472",
   "metadata": {},
   "source": [
    "3. Write a Python Program to Check Leap Year?"
   ]
  },
  {
   "cell_type": "code",
   "execution_count": 10,
   "id": "55d7109a",
   "metadata": {},
   "outputs": [
    {
     "name": "stdout",
     "output_type": "stream",
     "text": [
      "Enter the year u want: 2024\n",
      "The given year is leap year\n"
     ]
    }
   ],
   "source": [
    "yy = int(input(\"Enter the year u want: \"))\n",
    "if yy%2 == 0:\n",
    "    print(\"The given year is leap year\")\n",
    "else:\n",
    "    print(\"The given year is not leap year\")"
   ]
  },
  {
   "cell_type": "markdown",
   "id": "700ca78b",
   "metadata": {},
   "source": [
    "4. Write a Python Program to Check Prime Number?"
   ]
  },
  {
   "cell_type": "code",
   "execution_count": 15,
   "id": "7f638c69",
   "metadata": {},
   "outputs": [
    {
     "name": "stdout",
     "output_type": "stream",
     "text": [
      "Enter the number u want: 7\n",
      "The given number is Prime number\n"
     ]
    }
   ],
   "source": [
    "a = int(input(\"Enter the number u want: \"))\n",
    "if a%2 == 0:\n",
    "    print(\"The given number is not prime number\")\n",
    "else:\n",
    "    print(\"The given number is Prime number\")"
   ]
  },
  {
   "cell_type": "markdown",
   "id": "2f588025",
   "metadata": {},
   "source": [
    "5. Write a Python Program to Print all Prime Numbers in an Interval of 1-10000?"
   ]
  },
  {
   "cell_type": "code",
   "execution_count": 19,
   "id": "0987d1d6",
   "metadata": {},
   "outputs": [
    {
     "name": "stdout",
     "output_type": "stream",
     "text": [
      "Prime numbers between 0 and 100 are:\n",
      "2\n",
      "3\n",
      "5\n",
      "7\n",
      "11\n",
      "13\n",
      "17\n",
      "19\n",
      "23\n",
      "29\n",
      "31\n",
      "37\n",
      "41\n",
      "43\n",
      "47\n",
      "53\n",
      "59\n",
      "61\n",
      "67\n",
      "71\n",
      "73\n",
      "79\n",
      "83\n",
      "89\n",
      "97\n"
     ]
    }
   ],
   "source": [
    "lower = 0\n",
    "upper = 100\n",
    "print(\"Prime numbers between\", lower, \"and\", upper, \"are:\")\n",
    "for num in range(lower, upper + 1):\n",
    "   # all prime numbers are greater than 1\n",
    "   if num > 1:\n",
    "       for i in range(2, num):\n",
    "           if (num % i) == 0:\n",
    "               break\n",
    "       else:\n",
    "           print(num)"
   ]
  },
  {
   "cell_type": "code",
   "execution_count": null,
   "id": "f6203586",
   "metadata": {},
   "outputs": [],
   "source": []
  }
 ],
 "metadata": {
  "kernelspec": {
   "display_name": "Python 3 (ipykernel)",
   "language": "python",
   "name": "python3"
  },
  "language_info": {
   "codemirror_mode": {
    "name": "ipython",
    "version": 3
   },
   "file_extension": ".py",
   "mimetype": "text/x-python",
   "name": "python",
   "nbconvert_exporter": "python",
   "pygments_lexer": "ipython3",
   "version": "3.10.7"
  }
 },
 "nbformat": 4,
 "nbformat_minor": 5
}
